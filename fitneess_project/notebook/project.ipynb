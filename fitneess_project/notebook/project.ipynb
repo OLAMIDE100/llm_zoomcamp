{
 "cells": [
  {
   "cell_type": "markdown",
   "metadata": {},
   "source": [
    "### 1) Load Packages "
   ]
  },
  {
   "cell_type": "code",
   "execution_count": 74,
   "metadata": {},
   "outputs": [],
   "source": [
    "import json\n",
    "import pandas as pd\n",
    "import minsearch\n",
    "from openai import OpenAI\n",
    "from tqdm.auto  import tqdm\n",
    "import random"
   ]
  },
  {
   "cell_type": "markdown",
   "metadata": {},
   "source": [
    "### 2) Setting Connection"
   ]
  },
  {
   "cell_type": "code",
   "execution_count": 31,
   "metadata": {},
   "outputs": [],
   "source": [
    "open_client = OpenAI(api_key=\"\")"
   ]
  },
  {
   "cell_type": "markdown",
   "metadata": {},
   "source": [
    "### 2) Load Data"
   ]
  },
  {
   "cell_type": "code",
   "execution_count": 7,
   "metadata": {},
   "outputs": [
    {
     "data": {
      "text/plain": [
       "{'id': 0,\n",
       " 'exercise_name': 'Push-Ups',\n",
       " 'type_of_activity': 'Strength',\n",
       " 'type_of_equipment': 'Bodyweight',\n",
       " 'body_part': 'Upper Body',\n",
       " 'type': 'Push',\n",
       " 'muscle_groups_activated': 'Pectorals, Triceps, Deltoids',\n",
       " 'instructions': 'Start in a high plank position with your hands under your shoulders. Lower your body until your chest nearly touches the floor. Push back up to the starting position.'}"
      ]
     },
     "execution_count": 7,
     "metadata": {},
     "output_type": "execute_result"
    }
   ],
   "source": [
    "data_df = pd.read_csv('../data/data.csv')\n",
    "\n",
    "\n",
    "documents = data_df.to_dict(orient='records')\n",
    "\n",
    "\n",
    "documents[0]"
   ]
  },
  {
   "cell_type": "markdown",
   "metadata": {},
   "source": [
    "### 3) Retrival (Minsearch)"
   ]
  },
  {
   "cell_type": "code",
   "execution_count": 41,
   "metadata": {},
   "outputs": [],
   "source": [
    "query = 'Is the Lat Pulldown considered a strength training activity, and if so, why?'"
   ]
  },
  {
   "cell_type": "code",
   "execution_count": 10,
   "metadata": {},
   "outputs": [
    {
     "data": {
      "text/plain": [
       "<minsearch.Index at 0x104c2ee50>"
      ]
     },
     "execution_count": 10,
     "metadata": {},
     "output_type": "execute_result"
    }
   ],
   "source": [
    "text_fields = [\"exercise_name\",\n",
    "               \"type_of_activity\",\n",
    "               \"type_of_equipment\",\n",
    "               \"body_part\",\n",
    "               \"type\",\n",
    "               \"muscle_groups_activated\",\n",
    "               \"instructions\"\n",
    "               ]\n",
    "\n",
    "index = minsearch.Index(\n",
    "        text_fields=text_fields,\n",
    "        keyword_fields=['id']\n",
    "        )\n",
    "\n",
    "\n",
    "index.fit(documents)"
   ]
  },
  {
   "cell_type": "code",
   "execution_count": 75,
   "metadata": {},
   "outputs": [],
   "source": [
    "def search(query,boost={}):\n",
    "\n",
    "    results = index.search(\n",
    "        query=query,\n",
    "        filter_dict={},\n",
    "        boost_dict=boost,\n",
    "        num_results=10\n",
    "    )\n",
    "\n",
    "\n",
    "    return results"
   ]
  },
  {
   "cell_type": "markdown",
   "metadata": {},
   "source": [
    "### 4) Rag Flow"
   ]
  },
  {
   "cell_type": "code",
   "execution_count": 15,
   "metadata": {},
   "outputs": [],
   "source": [
    "prompt_template = \"\"\"\n",
    "You're a fitness insrtuctor. Answer the QUESTION based on the CONTEXT from our exercises database.\n",
    "Use only the facts from the CONTEXT when answering the QUESTION.\n",
    "\n",
    "QUESTION: {question}\n",
    "\n",
    "CONTEXT:\n",
    "{context}\n",
    "\"\"\".strip()\n",
    "\n",
    "\n",
    "entry_template = \"\"\"\n",
    "exercise_name: {exercise_name}\n",
    "type_of_activity: {type_of_activity}\n",
    "type_of_equipment: {type_of_equipment}\n",
    "body_part: {body_part}\n",
    "type: {type}\n",
    "muscle_groups_activated: {muscle_groups_activated}\n",
    "instructions: {instructions}\n",
    "\"\"\".strip()\n",
    "\n",
    "\n",
    "def build_prompt(query, search_results):\n",
    "\n",
    "    context = \"\"\n",
    "\n",
    "    for doc in search_results:\n",
    "        context = context + entry_template.format(**doc) + \"\\n\\n\"\n",
    "\n",
    "\n",
    "    prompt = prompt_template.format(question=query,context=context).strip()\n",
    "    return prompt\n"
   ]
  },
  {
   "cell_type": "code",
   "execution_count": 43,
   "metadata": {},
   "outputs": [],
   "source": [
    "def llm(prompt,model):\n",
    "\n",
    "    response = open_client.chat.completions.create(\n",
    "        model=model,\n",
    "        messages=[{\"role\":\"user\",\"content\": prompt}]\n",
    "    )\n",
    "\n",
    "\n",
    "\n",
    "    return response.choices[0].message.content\n"
   ]
  },
  {
   "cell_type": "code",
   "execution_count": 46,
   "metadata": {},
   "outputs": [],
   "source": [
    "def rag(query,model='gpt-4o-mini'):\n",
    "\n",
    "    search_results = search(query)\n",
    "\n",
    "\n",
    "    prompt = build_prompt(query,search_results)\n",
    "\n",
    "\n",
    "    result = llm(prompt,model)\n",
    "\n",
    "    return result\n",
    "\n",
    "\n"
   ]
  },
  {
   "cell_type": "code",
   "execution_count": 47,
   "metadata": {},
   "outputs": [
    {
     "data": {
      "text/plain": [
       "'Yes, the Lat Pulldown is considered a strength training activity. This classification is based on its primary objective to build and strengthen the upper body, specifically targeting muscle groups such as the Latissimus Dorsi and Biceps. The exercise involves using a machine to perform a pulling motion, which is typical of strength training exercises that aim to increase muscle strength and size.'"
      ]
     },
     "execution_count": 47,
     "metadata": {},
     "output_type": "execute_result"
    }
   ],
   "source": [
    "rag(query)"
   ]
  },
  {
   "cell_type": "markdown",
   "metadata": {},
   "source": [
    "### 5) Retrieval Evaluation"
   ]
  },
  {
   "cell_type": "code",
   "execution_count": 52,
   "metadata": {},
   "outputs": [],
   "source": [
    "ground_truth_df = pd.read_csv('../data/ground-truth-retrieval.csv')\n",
    "\n",
    "ground_truth = ground_truth_df.to_dict(orient=\"records\")\n"
   ]
  },
  {
   "cell_type": "code",
   "execution_count": 67,
   "metadata": {},
   "outputs": [],
   "source": [
    "def hit_rate(relevance_total):\n",
    "    cnt = 0\n",
    "\n",
    "    for line in relevance_total:\n",
    "        if True in line:\n",
    "            cnt = cnt + 1\n",
    "\n",
    "    return cnt / len(relevance_total)\n",
    "\n",
    "def mrr(relevance_total):\n",
    "    total_score = 0.0\n",
    "\n",
    "    for line in relevance_total:\n",
    "        for rank in range(len(line)):\n",
    "            if line[rank] == True:\n",
    "                total_score = total_score + 1 / (rank + 1)\n",
    "\n",
    "    return total_score / len(relevance_total)"
   ]
  },
  {
   "cell_type": "code",
   "execution_count": 71,
   "metadata": {},
   "outputs": [],
   "source": [
    "def evaluate(ground_truth, search_function):\n",
    "    relevance_total = []\n",
    "\n",
    "    for q in tqdm(ground_truth):\n",
    "        doc_id = q['id']\n",
    "        results = search_function(q)\n",
    "        relevance = [d['id'] == doc_id for d in results]\n",
    "        relevance_total.append(relevance)\n",
    "\n",
    "    return {\n",
    "        'hit_rate': hit_rate(relevance_total),\n",
    "        'mrr': mrr(relevance_total),\n",
    "    }"
   ]
  },
  {
   "cell_type": "code",
   "execution_count": 76,
   "metadata": {},
   "outputs": [
    {
     "name": "stderr",
     "output_type": "stream",
     "text": [
      "100%|██████████| 1035/1035 [00:01<00:00, 599.49it/s]\n"
     ]
    },
    {
     "data": {
      "text/plain": [
       "{'hit_rate': 0.9352657004830918, 'mrr': 0.8134479717813055}"
      ]
     },
     "execution_count": 76,
     "metadata": {},
     "output_type": "execute_result"
    }
   ],
   "source": [
    "evaluate(ground_truth, lambda q: search(q['question']))"
   ]
  },
  {
   "cell_type": "markdown",
   "metadata": {},
   "source": [
    "### 6) Finding the best parameters"
   ]
  },
  {
   "cell_type": "code",
   "execution_count": 77,
   "metadata": {},
   "outputs": [],
   "source": [
    "df_validation = ground_truth_df[:100]\n",
    "df_test = ground_truth_df[100:]"
   ]
  },
  {
   "cell_type": "code",
   "execution_count": 78,
   "metadata": {},
   "outputs": [],
   "source": [
    "def simple_optimize(param_ranges, objective_function, n_iterations=10):\n",
    "    best_params = None\n",
    "    best_score = float('-inf')  # Assuming we're minimizing. Use float('-inf') if maximizing.\n",
    "\n",
    "    for _ in range(n_iterations):\n",
    "        # Generate random parameters\n",
    "        current_params = {}\n",
    "        for param, (min_val, max_val) in param_ranges.items():\n",
    "            if isinstance(min_val, int) and isinstance(max_val, int):\n",
    "                current_params[param] = random.randint(min_val, max_val)\n",
    "            else:\n",
    "                current_params[param] = random.uniform(min_val, max_val)\n",
    "        \n",
    "        # Evaluate the objective function\n",
    "        current_score = objective_function(current_params)\n",
    "        \n",
    "        # Update best if current is better\n",
    "        if current_score > best_score:  # Change to > if maximizing\n",
    "            best_score = current_score\n",
    "            best_params = current_params\n",
    "    \n",
    "    return best_params, best_score"
   ]
  },
  {
   "cell_type": "code",
   "execution_count": 79,
   "metadata": {},
   "outputs": [],
   "source": [
    "gt_val = df_validation.to_dict(orient='records')"
   ]
  },
  {
   "cell_type": "code",
   "execution_count": 80,
   "metadata": {},
   "outputs": [],
   "source": [
    "param_ranges = {\n",
    "    'exercise_name': (0.0, 3.0),\n",
    "    'type_of_activity': (0.0, 3.0),\n",
    "    'type_of_equipment': (0.0, 3.0),\n",
    "    'body_part': (0.0, 3.0),\n",
    "    'type': (0.0, 3.0),\n",
    "    'muscle_groups_activated': (0.0, 3.0),\n",
    "    'instructions': (0.0, 3.0),\n",
    "}\n",
    "\n",
    "def objective(boost_params):\n",
    "    def search_function(q):\n",
    "        return search(q['question'], boost_params)\n",
    "\n",
    "    results = evaluate(gt_val, search_function)\n",
    "    return results['mrr']"
   ]
  },
  {
   "cell_type": "code",
   "execution_count": 84,
   "metadata": {},
   "outputs": [
    {
     "name": "stderr",
     "output_type": "stream",
     "text": [
      "100%|██████████| 100/100 [00:00<00:00, 564.94it/s]\n",
      "100%|██████████| 100/100 [00:00<00:00, 587.39it/s]\n",
      "100%|██████████| 100/100 [00:00<00:00, 587.36it/s]\n",
      "100%|██████████| 100/100 [00:00<00:00, 592.65it/s]\n",
      "100%|██████████| 100/100 [00:00<00:00, 593.73it/s]\n",
      "100%|██████████| 100/100 [00:00<00:00, 585.01it/s]\n",
      "100%|██████████| 100/100 [00:00<00:00, 600.38it/s]\n",
      "100%|██████████| 100/100 [00:00<00:00, 604.12it/s]\n",
      "100%|██████████| 100/100 [00:00<00:00, 601.69it/s]\n",
      "100%|██████████| 100/100 [00:00<00:00, 590.97it/s]\n",
      "100%|██████████| 100/100 [00:00<00:00, 599.29it/s]\n",
      "100%|██████████| 100/100 [00:00<00:00, 603.35it/s]\n",
      "100%|██████████| 100/100 [00:00<00:00, 598.73it/s]\n",
      "100%|██████████| 100/100 [00:00<00:00, 586.00it/s]\n",
      "100%|██████████| 100/100 [00:00<00:00, 606.07it/s]\n",
      "100%|██████████| 100/100 [00:00<00:00, 603.11it/s]\n",
      "100%|██████████| 100/100 [00:00<00:00, 583.15it/s]\n",
      "100%|██████████| 100/100 [00:00<00:00, 596.20it/s]\n",
      "100%|██████████| 100/100 [00:00<00:00, 599.34it/s]\n",
      "100%|██████████| 100/100 [00:00<00:00, 610.70it/s]\n"
     ]
    },
    {
     "data": {
      "text/plain": [
       "({'exercise_name': 2.9620514273910423,\n",
       "  'type_of_activity': 1.4480659199628136,\n",
       "  'type_of_equipment': 0.30925442034563844,\n",
       "  'body_part': 1.5572417586561653,\n",
       "  'type': 0.09597121215688575,\n",
       "  'muscle_groups_activated': 2.566743529930406,\n",
       "  'instructions': 0.720527974160517},\n",
       " 0.8705833333333333)"
      ]
     },
     "execution_count": 84,
     "metadata": {},
     "output_type": "execute_result"
    }
   ],
   "source": [
    "simple_optimize(param_ranges, objective, n_iterations=20)"
   ]
  },
  {
   "cell_type": "code",
   "execution_count": 85,
   "metadata": {},
   "outputs": [],
   "source": [
    "best_boost = {'exercise_name': 2.9620514273910423,\n",
    "  'type_of_activity': 1.4480659199628136,\n",
    "  'type_of_equipment': 0.30925442034563844,\n",
    "  'body_part': 1.5572417586561653,\n",
    "  'type': 0.09597121215688575,\n",
    "  'muscle_groups_activated': 2.566743529930406,\n",
    "  'instructions': 0.720527974160517}"
   ]
  },
  {
   "cell_type": "code",
   "execution_count": 86,
   "metadata": {},
   "outputs": [
    {
     "name": "stderr",
     "output_type": "stream",
     "text": [
      "100%|██████████| 1035/1035 [00:01<00:00, 598.13it/s]\n"
     ]
    },
    {
     "data": {
      "text/plain": [
       "{'hit_rate': 0.9381642512077295, 'mrr': 0.8971612606395217}"
      ]
     },
     "execution_count": 86,
     "metadata": {},
     "output_type": "execute_result"
    }
   ],
   "source": [
    "evaluate(ground_truth, lambda q: search(q['question'],best_boost))"
   ]
  },
  {
   "cell_type": "markdown",
   "metadata": {},
   "source": [
    "### 7) Rag Evaluation"
   ]
  },
  {
   "cell_type": "code",
   "execution_count": 97,
   "metadata": {},
   "outputs": [],
   "source": [
    "rag_eval_promt_template = \"\"\"\n",
    "You are an expert evaluator for a RAG system.\n",
    "Your task is to analyze the relevance of the generated answer to the given question.\n",
    "Based on the relevance of the generated answer, you will classify it\n",
    "as \"NON_RELEVANT\", \"PARTLY_RELEVANT\", or \"RELEVANT\".\n",
    "\n",
    "Here is the data for evaluation:\n",
    "\n",
    "Question: {question}\n",
    "Generated Answer: {answer_llm}\n",
    "\n",
    "Please analyze the content and context of the generated answer in relation to the question\n",
    "and provide your evaluation in parsable JSON without using code blocks:\n",
    "\n",
    "{{\n",
    "  \"Relevance\": \"NON_RELEVANT\" | \"PARTLY_RELEVANT\" | \"RELEVANT\",\n",
    "  \"Explanation\": \"[Provide a brief explanation for your evaluation]\"\n",
    "}}\n",
    "\"\"\".strip()"
   ]
  },
  {
   "cell_type": "code",
   "execution_count": 92,
   "metadata": {},
   "outputs": [],
   "source": [
    "data_sample = ground_truth_df.sample(n=200,random_state=1)"
   ]
  },
  {
   "cell_type": "code",
   "execution_count": 93,
   "metadata": {},
   "outputs": [],
   "source": [
    "sample = data_sample.to_dict(orient='records')"
   ]
  },
  {
   "cell_type": "code",
   "execution_count": 94,
   "metadata": {},
   "outputs": [
    {
     "data": {
      "text/plain": [
       "{'id': 171,\n",
       " 'question': 'What equipment do I need to perform the Banded Pull-Up?'}"
      ]
     },
     "execution_count": 94,
     "metadata": {},
     "output_type": "execute_result"
    }
   ],
   "source": [
    "sample[0]"
   ]
  },
  {
   "cell_type": "code",
   "execution_count": 98,
   "metadata": {},
   "outputs": [],
   "source": [
    "evaluations = []"
   ]
  },
  {
   "cell_type": "code",
   "execution_count": 99,
   "metadata": {},
   "outputs": [
    {
     "name": "stderr",
     "output_type": "stream",
     "text": [
      "100%|██████████| 200/200 [08:10<00:00,  2.45s/it]\n"
     ]
    }
   ],
   "source": [
    "\n",
    "for doc in tqdm(sample):\n",
    "    question = doc['question']\n",
    "    answer_llm = rag(question)\n",
    "\n",
    "    prompt = rag_eval_promt_template.format(\n",
    "        question=question,\n",
    "        answer_llm=answer_llm\n",
    "    )\n",
    "\n",
    "    evaluation = json.loads(llm(prompt,'gpt-4o-mini'))\n",
    "\n",
    "    evaluations.append((doc,answer_llm,evaluation))"
   ]
  },
  {
   "cell_type": "code",
   "execution_count": 100,
   "metadata": {},
   "outputs": [],
   "source": [
    "df_eval = pd.DataFrame(evaluations, columns=['record', 'answer', 'evaluation'])"
   ]
  },
  {
   "cell_type": "code",
   "execution_count": 101,
   "metadata": {},
   "outputs": [
    {
     "data": {
      "text/html": [
       "<div>\n",
       "<style scoped>\n",
       "    .dataframe tbody tr th:only-of-type {\n",
       "        vertical-align: middle;\n",
       "    }\n",
       "\n",
       "    .dataframe tbody tr th {\n",
       "        vertical-align: top;\n",
       "    }\n",
       "\n",
       "    .dataframe thead th {\n",
       "        text-align: right;\n",
       "    }\n",
       "</style>\n",
       "<table border=\"1\" class=\"dataframe\">\n",
       "  <thead>\n",
       "    <tr style=\"text-align: right;\">\n",
       "      <th></th>\n",
       "      <th>record</th>\n",
       "      <th>answer</th>\n",
       "      <th>evaluation</th>\n",
       "    </tr>\n",
       "  </thead>\n",
       "  <tbody>\n",
       "    <tr>\n",
       "      <th>0</th>\n",
       "      <td>{'id': 171, 'question': 'What equipment do I n...</td>\n",
       "      <td>To perform the Banded Pull-Up, you need a Resi...</td>\n",
       "      <td>{'Relevance': 'RELEVANT', 'Explanation': 'The ...</td>\n",
       "    </tr>\n",
       "    <tr>\n",
       "      <th>1</th>\n",
       "      <td>{'id': 115, 'question': 'Do I need any equipme...</td>\n",
       "      <td>No, you do not need any equipment to perform J...</td>\n",
       "      <td>{'Relevance': 'RELEVANT', 'Explanation': 'The ...</td>\n",
       "    </tr>\n",
       "    <tr>\n",
       "      <th>2</th>\n",
       "      <td>{'id': 53, 'question': 'What specific body par...</td>\n",
       "      <td>The Dumbbell Lateral Raise primarily works on ...</td>\n",
       "      <td>{'Relevance': 'RELEVANT', 'Explanation': 'The ...</td>\n",
       "    </tr>\n",
       "    <tr>\n",
       "      <th>3</th>\n",
       "      <td>{'id': 198, 'question': 'What should I do afte...</td>\n",
       "      <td>After extending the handle overhead in the Cab...</td>\n",
       "      <td>{'Relevance': 'RELEVANT', 'Explanation': 'The ...</td>\n",
       "    </tr>\n",
       "    <tr>\n",
       "      <th>4</th>\n",
       "      <td>{'id': 19, 'question': 'How deep should my squ...</td>\n",
       "      <td>When doing Goblet Squats, you should squat dow...</td>\n",
       "      <td>{'Relevance': 'RELEVANT', 'Explanation': 'The ...</td>\n",
       "    </tr>\n",
       "    <tr>\n",
       "      <th>...</th>\n",
       "      <td>...</td>\n",
       "      <td>...</td>\n",
       "      <td>...</td>\n",
       "    </tr>\n",
       "    <tr>\n",
       "      <th>195</th>\n",
       "      <td>{'id': 83, 'question': 'What muscles does the ...</td>\n",
       "      <td>The Pendlay Row primarily targets the Latissim...</td>\n",
       "      <td>{'Relevance': 'PARTLY_RELEVANT', 'Explanation'...</td>\n",
       "    </tr>\n",
       "    <tr>\n",
       "      <th>196</th>\n",
       "      <td>{'id': 94, 'question': 'What type of exercise ...</td>\n",
       "      <td>TRX Push-Ups are classified as a type of Stren...</td>\n",
       "      <td>{'Relevance': 'RELEVANT', 'Explanation': 'The ...</td>\n",
       "    </tr>\n",
       "    <tr>\n",
       "      <th>197</th>\n",
       "      <td>{'id': 123, 'question': 'How do you return to ...</td>\n",
       "      <td>To return to the starting position after compl...</td>\n",
       "      <td>{'Relevance': 'RELEVANT', 'Explanation': 'The ...</td>\n",
       "    </tr>\n",
       "    <tr>\n",
       "      <th>198</th>\n",
       "      <td>{'id': 76, 'question': 'Do I need any equipmen...</td>\n",
       "      <td>No, you do not need any equipment to perform F...</td>\n",
       "      <td>{'Relevance': 'RELEVANT', 'Explanation': 'The ...</td>\n",
       "    </tr>\n",
       "    <tr>\n",
       "      <th>199</th>\n",
       "      <td>{'id': 150, 'question': 'What equipment do I n...</td>\n",
       "      <td>To perform the One-Arm Dumbbell Row, you need ...</td>\n",
       "      <td>{'Relevance': 'RELEVANT', 'Explanation': 'The ...</td>\n",
       "    </tr>\n",
       "  </tbody>\n",
       "</table>\n",
       "<p>200 rows × 3 columns</p>\n",
       "</div>"
      ],
      "text/plain": [
       "                                                record  \\\n",
       "0    {'id': 171, 'question': 'What equipment do I n...   \n",
       "1    {'id': 115, 'question': 'Do I need any equipme...   \n",
       "2    {'id': 53, 'question': 'What specific body par...   \n",
       "3    {'id': 198, 'question': 'What should I do afte...   \n",
       "4    {'id': 19, 'question': 'How deep should my squ...   \n",
       "..                                                 ...   \n",
       "195  {'id': 83, 'question': 'What muscles does the ...   \n",
       "196  {'id': 94, 'question': 'What type of exercise ...   \n",
       "197  {'id': 123, 'question': 'How do you return to ...   \n",
       "198  {'id': 76, 'question': 'Do I need any equipmen...   \n",
       "199  {'id': 150, 'question': 'What equipment do I n...   \n",
       "\n",
       "                                                answer  \\\n",
       "0    To perform the Banded Pull-Up, you need a Resi...   \n",
       "1    No, you do not need any equipment to perform J...   \n",
       "2    The Dumbbell Lateral Raise primarily works on ...   \n",
       "3    After extending the handle overhead in the Cab...   \n",
       "4    When doing Goblet Squats, you should squat dow...   \n",
       "..                                                 ...   \n",
       "195  The Pendlay Row primarily targets the Latissim...   \n",
       "196  TRX Push-Ups are classified as a type of Stren...   \n",
       "197  To return to the starting position after compl...   \n",
       "198  No, you do not need any equipment to perform F...   \n",
       "199  To perform the One-Arm Dumbbell Row, you need ...   \n",
       "\n",
       "                                            evaluation  \n",
       "0    {'Relevance': 'RELEVANT', 'Explanation': 'The ...  \n",
       "1    {'Relevance': 'RELEVANT', 'Explanation': 'The ...  \n",
       "2    {'Relevance': 'RELEVANT', 'Explanation': 'The ...  \n",
       "3    {'Relevance': 'RELEVANT', 'Explanation': 'The ...  \n",
       "4    {'Relevance': 'RELEVANT', 'Explanation': 'The ...  \n",
       "..                                                 ...  \n",
       "195  {'Relevance': 'PARTLY_RELEVANT', 'Explanation'...  \n",
       "196  {'Relevance': 'RELEVANT', 'Explanation': 'The ...  \n",
       "197  {'Relevance': 'RELEVANT', 'Explanation': 'The ...  \n",
       "198  {'Relevance': 'RELEVANT', 'Explanation': 'The ...  \n",
       "199  {'Relevance': 'RELEVANT', 'Explanation': 'The ...  \n",
       "\n",
       "[200 rows x 3 columns]"
      ]
     },
     "execution_count": 101,
     "metadata": {},
     "output_type": "execute_result"
    }
   ],
   "source": [
    "df_eval "
   ]
  },
  {
   "cell_type": "code",
   "execution_count": 102,
   "metadata": {},
   "outputs": [],
   "source": [
    "df_eval = pd.DataFrame(evaluations, columns=['record', 'answer', 'evaluation'])\n",
    "\n",
    "df_eval['id'] = df_eval.record.apply(lambda d: d['id'])\n",
    "df_eval['question'] = df_eval.record.apply(lambda d: d['question'])\n",
    "\n",
    "df_eval['relevance'] = df_eval.evaluation.apply(lambda d: d['Relevance'])\n",
    "df_eval['explanation'] = df_eval.evaluation.apply(lambda d: d['Explanation'])\n",
    "\n",
    "del df_eval['record']\n",
    "del df_eval['evaluation']"
   ]
  },
  {
   "cell_type": "code",
   "execution_count": 103,
   "metadata": {},
   "outputs": [
    {
     "data": {
      "text/plain": [
       "relevance\n",
       "RELEVANT           0.875\n",
       "PARTLY_RELEVANT    0.110\n",
       "NON_RELEVANT       0.015\n",
       "Name: proportion, dtype: float64"
      ]
     },
     "execution_count": 103,
     "metadata": {},
     "output_type": "execute_result"
    }
   ],
   "source": [
    "df_eval.relevance.value_counts(normalize=True)"
   ]
  },
  {
   "cell_type": "code",
   "execution_count": 104,
   "metadata": {},
   "outputs": [],
   "source": [
    "df_eval.to_csv('../data/rag-eval-gpt-4o-mini.csv', index=False)"
   ]
  },
  {
   "cell_type": "code",
   "execution_count": null,
   "metadata": {},
   "outputs": [],
   "source": []
  },
  {
   "cell_type": "code",
   "execution_count": null,
   "metadata": {},
   "outputs": [],
   "source": []
  }
 ],
 "metadata": {
  "kernelspec": {
   "display_name": "llm_env",
   "language": "python",
   "name": "python3"
  },
  "language_info": {
   "codemirror_mode": {
    "name": "ipython",
    "version": 3
   },
   "file_extension": ".py",
   "mimetype": "text/x-python",
   "name": "python",
   "nbconvert_exporter": "python",
   "pygments_lexer": "ipython3",
   "version": "3.11.7"
  }
 },
 "nbformat": 4,
 "nbformat_minor": 2
}
